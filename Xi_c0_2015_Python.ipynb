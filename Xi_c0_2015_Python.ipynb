{
 "cells": [
  {
   "cell_type": "code",
   "execution_count": 54,
   "metadata": {},
   "outputs": [],
   "source": [
    "from ROOT import TCanvas, TH1D, TH1F #must install root\n",
    "import uproot #reads root files in python\n",
    "import math\n",
    "import numpy as np\n",
    "import pandas\n",
    "import matplotlib.pyplot as plt\n",
    "        \n",
    "#All needed fucntions used in python"
   ]
  },
  {
   "cell_type": "code",
   "execution_count": 55,
   "metadata": {},
   "outputs": [
    {
     "name": "stderr",
     "output_type": "stream",
     "text": [
      "Warning in <TCanvas::Constructor>: Deleting canvas with same name: Histogram of Xi c0 Mass\n"
     ]
    }
   ],
   "source": [
    "Xic0MassHist = TCanvas('Histogram of Xi c0 Mass', \"\", 720, 480) #Defined a canvas"
   ]
  },
  {
   "cell_type": "code",
   "execution_count": 56,
   "metadata": {},
   "outputs": [
    {
     "name": "stderr",
     "output_type": "stream",
     "text": [
      "Warning in <TROOT::Append>: Replacing existing TH1: Xi_DDL, Omega- K+ (Potential memory leak).\n"
     ]
    }
   ],
   "source": [
    "Xic0M = TH1D(\"Xi_DDL, Omega- K+\", \"DDL Cuts\", 100, 2300, 3100) #Defined a plot to put onto that canvas"
   ]
  },
  {
   "cell_type": "code",
   "execution_count": 57,
   "metadata": {},
   "outputs": [],
   "source": [
    "tuples = uproot.open(\"myOmegamKpTuple_0.root\") "
   ]
  },
  {
   "cell_type": "code",
   "execution_count": 58,
   "metadata": {},
   "outputs": [],
   "source": [
    "tree = uproot.open(\"myOmegamKpTuple_0.root\")[\"myOmegamKpTuple\"][\"DecayTree\"] #Selects the file myOmegamKpTuple_0.root, then opens the folder myOmegamKpTuple\n",
    "#and then opens the folder Decay Tree"
   ]
  },
  {
   "cell_type": "code",
   "execution_count": 59,
   "metadata": {},
   "outputs": [],
   "source": [
    "eStart = 0\n",
    "eStop = 5000000 #These are used to select all of the events, len() could have worked too but picking a big number is easier"
   ]
  },
  {
   "cell_type": "code",
   "execution_count": 60,
   "metadata": {},
   "outputs": [],
   "source": [
    "Xic0_MM = tree[\"Xi_c0_MM\"].array(entrystart = eStart, entrystop = eStop)\n",
    "Xi_c0_PT = tree[\"Xi_c0_PT\"].array(entrystart = eStart, entrystop = eStop)\n",
    "\n",
    "Omega_MM = tree[\"Omega_MM\"].array(entrystart = eStart, entrystop = eStop)\n",
    "\n",
    "OmegaK_TRACK_Type = tree[\"OmegaK_TRACK_Type\"].array(entrystart = eStart, entrystop = eStop)\n",
    "OmegaK_ProbNNk = tree[\"OmegaK_ProbNNk\"].array(entrystart = eStart, entrystop = eStop)\n",
    "\n",
    "Lambda_MM = tree[\"Lambda_MM\"].array(entrystart = eStart, entrystop = eStop)\n",
    "\n",
    "LambdaPr_ProbNNp = tree[\"LambdaPr_ProbNNp\"].array(entrystart = eStart, entrystop = eStop)\n",
    "LambdaPr_TRACK_Type = tree[\"LambdaPr_TRACK_Type\"].array(entrystart = eStart, entrystop = eStop)\n",
    "\n",
    "LambdaPi_ProbNNpi = tree[\"LambdaPi_ProbNNpi\"].array(entrystart = eStart, entrystop = eStop)\n",
    "LambdaPi_TRACK_Type = tree[\"LambdaPi_TRACK_Type\"].array(entrystart = eStart, entrystop = eStop)\n",
    "\n",
    "PromptPi_ProbNNk = tree[\"PromptPi_ProbNNk\"].array(entrystart = eStart, entrystop = eStop)\n",
    "PromptPi_IPCHI2_OWNPV = tree[\"PromptPi_IPCHI2_OWNPV\"].array(entrystart = eStart, entrystop = eStop)\n",
    "\n",
    "#Selecting the tuples and defining them as their own variable name"
   ]
  },
  {
   "cell_type": "code",
   "execution_count": 61,
   "metadata": {},
   "outputs": [],
   "source": [
    "Omega_MM_Corrected = Omega_MM - Lambda_MM + 1115.683 #Better Omega_MM measurement"
   ]
  },
  {
   "cell_type": "code",
   "execution_count": 62,
   "metadata": {},
   "outputs": [],
   "source": [
    "Omega_MM_Corrected_v2 = (Omega_MM_Corrected > 1665) & (Omega_MM_Corrected < 1680)\n",
    "OmegaK_Corrected = (OmegaK_ProbNNk > 0.55)\n",
    "\n",
    "Lambda_MM_Corrected = (Lambda_MM > 1112) & (Lambda_MM < 1120)\n",
    "\n",
    "LambdaPr_ProbNNp_Corrected = (LambdaPr_ProbNNp > 0.1)\n",
    "\n",
    "LambdaPi_ProbNNpi_Corrected = (LambdaPi_ProbNNpi > 0.05)\n",
    "\n",
    "PromptPi_ProbNNk_Corrected = (PromptPi_ProbNNk  > 0.55)\n",
    "PromptPi_IPCHI2_OWNPV_Corrected = (PromptPi_IPCHI2_OWNPV > 6)\n",
    "\n",
    "#Cuts"
   ]
  },
  {
   "cell_type": "code",
   "execution_count": 63,
   "metadata": {},
   "outputs": [],
   "source": [
    "FirstCuts = Omega_MM_Corrected_v2 & OmegaK_Corrected & Lambda_MM_Corrected & LambdaPr_ProbNNp_Corrected & LambdaPi_ProbNNpi_Corrected & PromptPi_ProbNNk_Corrected & PromptPi_IPCHI2_OWNPV_Corrected\n",
    "#Defining what cuts should be applied to Xi_c0 as FirstCuts"
   ]
  },
  {
   "cell_type": "code",
   "execution_count": 67,
   "metadata": {},
   "outputs": [
    {
     "data": {
      "image/png": "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\n",
      "text/plain": [
       "<Figure size 432x288 with 1 Axes>"
      ]
     },
     "metadata": {
      "needs_background": "light"
     },
     "output_type": "display_data"
    }
   ],
   "source": [
    "Corrected_Xic0_Mass = Xic0_MM[FirstCuts] #Applying cuts to Xic0_MM \n",
    "nEvents = len(Corrected_Xic0_Mass)\n",
    "nEvents2 = range(0, nEvents)\n",
    "plt.figure()\n",
    "n, bins, patches = plt.hist(Corrected_Xic0_Mass, 120, density=False, facecolor=\"b\", alpha=0.75)\n",
    "plt.xlabel('Xic0_MM [MeV]')\n",
    "plt.ylabel('events per 10 MeV')\n",
    "plt.title('Xi c0 MM')\n",
    "plt.axis([2100,3300,0,1.15*max(n)])\n",
    "plt.grid(True)\n",
    "plt.show()\n",
    "plt.close()"
   ]
  },
  {
   "cell_type": "code",
   "execution_count": 51,
   "metadata": {},
   "outputs": [
    {
     "ename": "TypeError",
     "evalue": "none of the 3 overloaded methods succeeded. Full details:\n  int TH1::Fill(double x) =>\n    could not convert argument 1 (only size-1 arrays can be converted to Python scalars)\n  int TH1::Fill(const char* name, double w) =>\n    takes at least 2 arguments (1 given)\n  int TH1::Fill(double x, double w) =>\n    takes at least 2 arguments (1 given)",
     "output_type": "error",
     "traceback": [
      "\u001b[0;31m---------------------------------------------------------------------------\u001b[0m",
      "\u001b[0;31mTypeError\u001b[0m                                 Traceback (most recent call last)",
      "\u001b[0;32m<ipython-input-51-97984b518ae5>\u001b[0m in \u001b[0;36m<module>\u001b[0;34m\u001b[0m\n\u001b[0;32m----> 1\u001b[0;31m \u001b[0mXic0M\u001b[0m\u001b[0;34m.\u001b[0m\u001b[0mFill\u001b[0m\u001b[0;34m(\u001b[0m\u001b[0mCorrected_Xic0_Mass\u001b[0m\u001b[0;34m)\u001b[0m\u001b[0;34m\u001b[0m\u001b[0;34m\u001b[0m\u001b[0m\n\u001b[0m",
      "\u001b[0;31mTypeError\u001b[0m: none of the 3 overloaded methods succeeded. Full details:\n  int TH1::Fill(double x) =>\n    could not convert argument 1 (only size-1 arrays can be converted to Python scalars)\n  int TH1::Fill(const char* name, double w) =>\n    takes at least 2 arguments (1 given)\n  int TH1::Fill(double x, double w) =>\n    takes at least 2 arguments (1 given)"
     ]
    }
   ],
   "source": []
  },
  {
   "cell_type": "code",
   "execution_count": 22,
   "metadata": {},
   "outputs": [
    {
     "name": "stdout",
     "output_type": "stream",
     "text": [
      "[2605.64014859 2338.69389428 2725.64878143 ... 2664.69630519 2546.35281905\n",
      " 2353.63006986]\n"
     ]
    }
   ],
   "source": [
    "print(Xic0_MM)"
   ]
  },
  {
   "cell_type": "code",
   "execution_count": null,
   "metadata": {},
   "outputs": [],
   "source": []
  }
 ],
 "metadata": {
  "kernelspec": {
   "display_name": "Python 3",
   "language": "python",
   "name": "python3"
  },
  "language_info": {
   "codemirror_mode": {
    "name": "ipython",
    "version": 3
   },
   "file_extension": ".py",
   "mimetype": "text/x-python",
   "name": "python",
   "nbconvert_exporter": "python",
   "pygments_lexer": "ipython3",
   "version": "3.7.3"
  }
 },
}
