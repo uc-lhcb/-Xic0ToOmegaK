{
 "cells": [
  {
   "cell_type": "code",
   "execution_count": 2,
   "metadata": {},
   "outputs": [
    {
     "name": "stdout",
     "output_type": "stream",
     "text": [
      "Welcome to JupyROOT 6.18/00\n"
     ]
    }
   ],
   "source": [
    "from ROOT import TCanvas, TH1D #must install root\n",
    "import uproot #reads root files in python\n",
    "import math\n",
    "import numpy as np\n",
    "import pandas\n",
    "\n",
    "#All needed fucntions used in python"
   ]
  },
  {
   "cell_type": "code",
   "execution_count": 6,
   "metadata": {},
   "outputs": [],
   "source": [
    "Xic0MassHist = TCanvas('Histogram of Xi c0 Mass', \"\", 720, 480) #Defined a canvas"
   ]
  },
  {
   "cell_type": "code",
   "execution_count": 8,
   "metadata": {},
   "outputs": [],
   "source": [
    "Xic0M = TH1D(\"Xi_DDL, Omega- K+\", \"DDL Cuts\", 100, 2300, 3100) #Defined a plot to put onto that canvas"
   ]
  },
  {
   "cell_type": "code",
   "execution_count": 9,
   "metadata": {},
   "outputs": [],
   "source": [
    "tuples = uproot.open(\"myOmegamKpTuple_0.root\") "
   ]
  },
  {
   "cell_type": "code",
   "execution_count": 10,
   "metadata": {},
   "outputs": [],
   "source": [
    "tree = uproot.open(\"myOmegamKpTuple_0.root\")[\"myOmegamKpTuple\"][\"DecayTree\"] #Selects the file myOmegamKpTuple_0.root, then opens the folder myOmegamKpTuple\n",
    "#and then opens the folder Decay Tree"
   ]
  },
  {
   "cell_type": "code",
   "execution_count": 11,
   "metadata": {},
   "outputs": [],
   "source": [
    "eStart = 0\n",
    "eStop = 5000000 #These are used to select all of the events, len() could have worked too but picking a big number is easier"
   ]
  },
  {
   "cell_type": "code",
   "execution_count": 13,
   "metadata": {},
   "outputs": [],
   "source": [
    "Xic0_MM = tree[\"Xi_c0_MM\"].array(entrystart = eStart, entrystop = eStop)\n",
    "Xi_c0_PT = tree[\"Xi_c0_PT\"].array(entrystart = eStart, entrystop = eStop)\n",
    "\n",
    "Omega_MM = tree[\"Omega_MM\"].array(entrystart = eStart, entrystop = eStop)\n",
    "\n",
    "OmegaK_TRACK_Type = tree[\"OmegaK_TRACK_Type\"].array(entrystart = eStart, entrystop = eStop)\n",
    "OmegaK_ProbNNk = tree[\"OmegaK_ProbNNk\"].array(entrystart = eStart, entrystop = eStop)\n",
    "\n",
    "Lambda_MM = tree[\"Lambda_MM\"].array(entrystart = eStart, entrystop = eStop)\n",
    "\n",
    "LambdaPr_ProbNNp = tree[\"LambdaPr_ProbNNp\"].array(entrystart = eStart, entrystop = eStop)\n",
    "LambdaPr_TRACK_Type = tree[\"LambdaPr_TRACK_Type\"].array(entrystart = eStart, entrystop = eStop)\n",
    "\n",
    "LambdaPi_ProbNNpi = tree[\"LambdaPi_ProbNNpi\"].array(entrystart = eStart, entrystop = eStop)\n",
    "LambdaPi_TRACK_Type = tree[\"LambdaPi_TRACK_Type\"].array(entrystart = eStart, entrystop = eStop)\n",
    "\n",
    "PromptPi_ProbNNk = tree[\"PromptPi_ProbNNk\"].array(entrystart = eStart, entrystop = eStop)\n",
    "PromptPi_IPCHI2_OWNPV = tree[\"PromptPi_IPCHI2_OWNPV\"].array(entrystart = eStart, entrystop = eStop)\n",
    "\n",
    "#Selecting the tuples and defining them as their own variable name"
   ]
  },
  {
   "cell_type": "code",
   "execution_count": 14,
   "metadata": {},
   "outputs": [],
   "source": [
    "Omega_MM_Corrected = Omega_MM - Lambda_MM + 1115.683 #Better Omega_MM measurement"
   ]
  },
  {
   "cell_type": "code",
   "execution_count": 15,
   "metadata": {},
   "outputs": [],
   "source": [
    "Omega_MM_Corrected_v2 = (Omega_MM_Corrected > 1665) & (Omega_MM_Corrected < 1680)\n",
    "OmegaK_Corrected = (OmegaK_ProbNNk > 0.55)\n",
    "\n",
    "Lambda_MM_Corrected = (Lambda_MM > 1112) & (Lambda_MM < 1120)\n",
    "\n",
    "LambdaPr_ProbNNp_Corrected = (LambdaPr_ProbNNp > 0.1)\n",
    "\n",
    "LambdaPi_ProbNNpi_Corrected = (LambdaPi_ProbNNpi > 0.05)\n",
    "\n",
    "PromptPi_ProbNNk_Corrected = (PromptPi_ProbNNk  > 0.55)\n",
    "PromptPi_IPCHI2_OWNPV_Corrected = (PromptPi_IPCHI2_OWNPV > 6)\n",
    "\n",
    "#Cuts"
   ]
  },
  {
   "cell_type": "code",
   "execution_count": 16,
   "metadata": {},
   "outputs": [],
   "source": [
    "FirstCuts = Omega_MM_Corrected_v2 & OmegaK_Corrected & Lambda_MM_Corrected & LambdaPr_ProbNNp_Corrected & LambdaPi_ProbNNpi_Corrected & PromptPi_ProbNNk_Corrected & PromptPi_IPCHI2_OWNPV_Corrected\n",
    "#Defining what cuts should be applied to Xi_c0 as FirstCuts"
   ]
  },
  {
   "cell_type": "code",
   "execution_count": 31,
   "metadata": {},
   "outputs": [],
   "source": [
    "Corrected_Xic0_Mass = Xic0_MM[FirstCuts] #Applying cuts to Xic0_MM \n",
    "nEvents = len(Corrected_Xic0_Mass)\n",
    "nEvents2 = range(0, nEvents)"
   ]
  },
  {
   "cell_type": "code",
   "execution_count": 33,
   "metadata": {},
   "outputs": [
    {
     "ename": "TypeError",
     "evalue": "none of the 3 overloaded methods succeeded. Full details:\n  int TH1::Fill(double x) =>\n    takes at most 1 arguments (2 given)\n  int TH1::Fill(const char* name, double w) =>\n    could not convert argument 1 (bad argument type for built-in operation)\n  int TH1::Fill(double x, double w) =>\n    could not convert argument 1 (must be real number, not range)",
     "output_type": "error",
     "traceback": [
      "\u001b[0;31m---------------------------------------------------------------------------\u001b[0m",
      "\u001b[0;31mTypeError\u001b[0m                                 Traceback (most recent call last)",
      "\u001b[0;32m<ipython-input-33-0274913c3457>\u001b[0m in \u001b[0;36m<module>\u001b[0;34m\u001b[0m\n\u001b[0;32m----> 1\u001b[0;31m \u001b[0mXic0M\u001b[0m\u001b[0;34m.\u001b[0m\u001b[0mFill\u001b[0m\u001b[0;34m(\u001b[0m\u001b[0mnEvents2\u001b[0m\u001b[0;34m,\u001b[0m \u001b[0mCorrected_Xic0_Mass\u001b[0m\u001b[0;34m)\u001b[0m\u001b[0;34m\u001b[0m\u001b[0;34m\u001b[0m\u001b[0m\n\u001b[0m",
      "\u001b[0;31mTypeError\u001b[0m: none of the 3 overloaded methods succeeded. Full details:\n  int TH1::Fill(double x) =>\n    takes at most 1 arguments (2 given)\n  int TH1::Fill(const char* name, double w) =>\n    could not convert argument 1 (bad argument type for built-in operation)\n  int TH1::Fill(double x, double w) =>\n    could not convert argument 1 (must be real number, not range)"
     ]
    }
   ],
   "source": [
    "Xic0M.Fill(nEvents2, Corrected_Xic0_Mass)"
   ]
  },
  {
   "cell_type": "code",
   "execution_count": 22,
   "metadata": {},
   "outputs": [
    {
     "name": "stdout",
     "output_type": "stream",
     "text": [
      "[2605.64014859 2338.69389428 2725.64878143 ... 2664.69630519 2546.35281905\n",
      " 2353.63006986]\n"
     ]
    }
   ],
   "source": [
    "print(Xic0_MM)"
   ]
  },
  {
   "cell_type": "code",
   "execution_count": null,
   "metadata": {},
   "outputs": [],
   "source": []
  }
 ],
 "metadata": {
  "kernelspec": {
   "display_name": "Python 3",
   "language": "python",
   "name": "python3"
  },
  "language_info": {
   "codemirror_mode": {
    "name": "ipython",
    "version": 3
   },
   "file_extension": ".py",
   "mimetype": "text/x-python",
   "name": "python",
   "nbconvert_exporter": "python",
   "pygments_lexer": "ipython3",
   "version": "3.7.3"
  }
 },
 "nbformat": 4,
 "nbformat_minor": 2
}
