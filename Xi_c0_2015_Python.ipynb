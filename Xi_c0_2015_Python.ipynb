{
 "cells": [
  {
   "cell_type": "code",
   "execution_count": 47,
   "metadata": {},
   "outputs": [],
   "source": [
    "from ROOT import TCanvas, TH1D, TH1F, TF1 #must install root\n",
    "import uproot #reads root files in python\n",
    "import math\n",
    "import numpy as np\n",
    "import pandas\n",
    "import matplotlib.pyplot as plt\n",
    "from fit2MeV_Gaussian import fit1MeV_Gaussian\n",
    "from scipy.stats import norm\n",
    "import matplotlib.mlab as mlab\n",
    "\n",
    "#All needed fucntions used in python"
   ]
  },
  {
   "cell_type": "code",
   "execution_count": 23,
   "metadata": {},
   "outputs": [],
   "source": [
    "Xic0MassHist = TCanvas('Histogram of Xi_c0 Mass', \"\", 720, 480) #Defined a canvas"
   ]
  },
  {
   "cell_type": "code",
   "execution_count": 24,
   "metadata": {},
   "outputs": [],
   "source": [
    "Xic0M = TH1D(\"Xi DDL, Omega- K+\", \"DDL Cuts\", 100, 2300, 3100) #Defined a plot to put onto that canvas"
   ]
  },
  {
   "cell_type": "code",
   "execution_count": 25,
   "metadata": {},
   "outputs": [],
   "source": [
    "tuples = uproot.open(\"combined.root\") "
   ]
  },
  {
   "cell_type": "code",
   "execution_count": 26,
   "metadata": {},
   "outputs": [],
   "source": [
    "tree = uproot.open(\"combined.root\")[\"myOmegamKpTuple\"][\"DecayTree\"] #Selects the file myOmegamKpTuple_0.root, then opens the folder myOmegamKpTuple\n",
    "#and then opens the folder Decay Tree"
   ]
  },
  {
   "cell_type": "code",
   "execution_count": 27,
   "metadata": {},
   "outputs": [],
   "source": [
    "eStart = 0\n",
    "eStop = 5000000 #These are used to select all of the events, len() could have worked too but picking a big number is easier"
   ]
  },
  {
   "cell_type": "code",
   "execution_count": 28,
   "metadata": {},
   "outputs": [],
   "source": [
    "Xic0_MM = tree[\"Xi_c0_MM\"].array(entrystart = eStart, entrystop = eStop)\n",
    "Xi_c0_PT = tree[\"Xi_c0_PT\"].array(entrystart = eStart, entrystop = eStop)\n",
    "\n",
    "Omega_MM = tree[\"Omega_MM\"].array(entrystart = eStart, entrystop = eStop)\n",
    "\n",
    "OmegaK_TRACK_Type = tree[\"OmegaK_TRACK_Type\"].array(entrystart = eStart, entrystop = eStop)\n",
    "OmegaK_ProbNNk = tree[\"OmegaK_ProbNNk\"].array(entrystart = eStart, entrystop = eStop)\n",
    "\n",
    "Lambda_MM = tree[\"Lambda_MM\"].array(entrystart = eStart, entrystop = eStop)\n",
    "\n",
    "LambdaPr_ProbNNp = tree[\"LambdaPr_ProbNNp\"].array(entrystart = eStart, entrystop = eStop)\n",
    "LambdaPr_TRACK_Type = tree[\"LambdaPr_TRACK_Type\"].array(entrystart = eStart, entrystop = eStop)\n",
    "\n",
    "LambdaPi_ProbNNpi = tree[\"LambdaPi_ProbNNpi\"].array(entrystart = eStart, entrystop = eStop)\n",
    "LambdaPi_TRACK_Type = tree[\"LambdaPi_TRACK_Type\"].array(entrystart = eStart, entrystop = eStop)\n",
    "\n",
    "PromptPi_ProbNNk = tree[\"PromptPi_ProbNNk\"].array(entrystart = eStart, entrystop = eStop)\n",
    "PromptPi_IPCHI2_OWNPV = tree[\"PromptPi_IPCHI2_OWNPV\"].array(entrystart = eStart, entrystop = eStop)\n",
    "\n",
    "#Selecting the tuples and defining them as their own variable name"
   ]
  },
  {
   "cell_type": "code",
   "execution_count": 29,
   "metadata": {},
   "outputs": [],
   "source": [
    "Omega_MM_Corrected = Omega_MM - Lambda_MM + 1115.683 #Better Omega_MM measurement"
   ]
  },
  {
   "cell_type": "code",
   "execution_count": 30,
   "metadata": {},
   "outputs": [],
   "source": [
    "Omega_MM_Corrected_v2 = (Omega_MM_Corrected > 1665) & (Omega_MM_Corrected < 1680)\n",
    "OmegaK_Corrected = (OmegaK_ProbNNk > 0.55)\n",
    "\n",
    "Lambda_MM_Corrected = (Lambda_MM > 1112) & (Lambda_MM < 1120)\n",
    "\n",
    "LambdaPr_ProbNNp_Corrected = (LambdaPr_ProbNNp > 0.1)\n",
    "\n",
    "LambdaPi_ProbNNpi_Corrected = (LambdaPi_ProbNNpi > 0.05)\n",
    "\n",
    "PromptPi_ProbNNk_Corrected = (PromptPi_ProbNNk  > 0.55)\n",
    "PromptPi_IPCHI2_OWNPV_Corrected = (PromptPi_IPCHI2_OWNPV > 6)\n",
    "\n",
    "#Cuts"
   ]
  },
  {
   "cell_type": "code",
   "execution_count": 31,
   "metadata": {},
   "outputs": [],
   "source": [
    "FirstCuts = Omega_MM_Corrected_v2 & OmegaK_Corrected & Lambda_MM_Corrected & LambdaPr_ProbNNp_Corrected & LambdaPi_ProbNNpi_Corrected & PromptPi_ProbNNk_Corrected & PromptPi_IPCHI2_OWNPV_Corrected\n",
    "#Defining what cuts should be applied to Xi_c0 as FirstCuts"
   ]
  },
  {
   "cell_type": "code",
   "execution_count": 32,
   "metadata": {},
   "outputs": [
    {
     "data": {
      "image/png": "[encoded data removed]",
      "text/plain": [
       "<Figure size 432x288 with 1 Axes>"
      ]
     },
     "metadata": {
      "needs_background": "light"
     },
     "output_type": "display_data"
    }
   ],
   "source": [
    "Corrected_Xic0_Mass = Xic0_MM[FirstCuts] #Applying cuts to Xic0_MM \n",
    "nEvents = len(Corrected_Xic0_Mass)\n",
    "nEvents2 = range(0, nEvents)\n",
    "plt.figure()\n",
    "n, bins, patches = plt.hist(Corrected_Xic0_Mass, 120, density=False, facecolor=\"b\", alpha=0.75)\n",
    "plt.xlabel('Xic0_MM [MeV]')\n",
    "plt.ylabel('events per 10 MeV')\n",
    "plt.title('Xi c0 MM')\n",
    "plt.axis([2100,3300,0,1.15*max(n)])\n",
    "plt.grid(True)\n",
    "plt.show()\n",
    "plt.close()\n",
    "#Displaying the graph with bin numbers, labels, colors, etc."
   ]
  },
  {
   "cell_type": "code",
   "execution_count": 33,
   "metadata": {},
   "outputs": [],
   "source": [
    "myXifit = TF1(\"myXifit\", fit1MeV_Gaussian, 2380, 2580, 5)\n",
    "myXifit.SetParameter(0, 120)\n",
    "myXifit.SetParameter(1, 2471)\n",
    "myXifit.SetParameter(2, 40)\n",
    "myXifit.SetParameter(3, 0)\n",
    "myXifit.SetParameter(4, 0)\n",
    "#Setting the parameters to the fit function"
   ]
  },
  {
   "cell_type": "code",
   "execution_count": 46,
   "metadata": {},
   "outputs": [
    {
     "ename": "AttributeError",
     "evalue": "'numpy.ndarray' object has no attribute 'Fit'",
     "output_type": "error",
     "traceback": [
      "\u001b[0;31m---------------------------------------------------------------------------\u001b[0m",
      "\u001b[0;31mAttributeError\u001b[0m                            Traceback (most recent call last)",
      "\u001b[0;32m<ipython-input-46-397e0d3491db>\u001b[0m in \u001b[0;36m<module>\u001b[0;34m\u001b[0m\n\u001b[0;32m----> 1\u001b[0;31m \u001b[0mCorrected_Xic0_Mass\u001b[0m\u001b[0;34m.\u001b[0m\u001b[0mFit\u001b[0m\u001b[0;34m(\u001b[0m\u001b[0;34m\"myXifit\"\u001b[0m\u001b[0;34m)\u001b[0m\u001b[0;34m\u001b[0m\u001b[0;34m\u001b[0m\u001b[0m\n\u001b[0m",
      "\u001b[0;31mAttributeError\u001b[0m: 'numpy.ndarray' object has no attribute 'Fit'"
     ]
    }
   ],
   "source": [
    "Corrected_Xic0_Mass.Fit(\"myXifit\") #This is where the code breaks down"
   ]
  }
 ],
 "metadata": {
  "kernelspec": {
   "display_name": "Python 3",
   "language": "python",
   "name": "python3"
  },
  "language_info": {
   "codemirror_mode": {
    "name": "ipython",
    "version": 3
   },
   "file_extension": ".py",
   "mimetype": "text/x-python",
   "name": "python",
   "nbconvert_exporter": "python",
   "pygments_lexer": "ipython3",
   "version": "3.7.3"
  }
 },
 "nbformat": 4,
 "nbformat_minor": 2
}
