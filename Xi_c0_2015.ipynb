from ROOT import TCanvas, TH1D #must install root
import uproot #reads root files in python
import math
import numpy as np
import pandas

#All needed fucntions used in python

Xic0MassHist = TCanvas('Histogram of Xi c0 Mass', "", 720, 480) #Defined a canvas

Xic0M = TH1D("Xi_DDL, Omega- K+", "DDL Cuts", 100, 2300, 3100) #Defined a plot to put onto that canvas

tuples = uproot.open("myOmegamKpTuple_0.root") 

tree = uproot.open("myOmegamKpTuple_0.root")["myOmegamKpTuple"]["DecayTree"] #Selects the file myOmegamKpTuple_0.root, then opens the folder myOmegamKpTuple
#and then opens the folder Decay Tree

eStart = 0
eStop = 5000000 #These are used to select all of the events, len() could have worked too but picking a big number is easier

Xic0_MM = tree["Xi_c0_MM"].array(entrystart = eStart, entrystop = eStop)
Xi_c0_PT = tree["Xi_c0_PT"].array(entrystart = eStart, entrystop = eStop)

Omega_MM = tree["Omega_MM"].array(entrystart = eStart, entrystop = eStop)

OmegaK_TRACK_Type = tree["OmegaK_TRACK_Type"].array(entrystart = eStart, entrystop = eStop)
OmegaK_ProbNNk = tree["OmegaK_ProbNNk"].array(entrystart = eStart, entrystop = eStop)

Lambda_MM = tree["Lambda_MM"].array(entrystart = eStart, entrystop = eStop)

LambdaPr_ProbNNp = tree["LambdaPr_ProbNNp"].array(entrystart = eStart, entrystop = eStop)
LambdaPr_TRACK_Type = tree["LambdaPr_TRACK_Type"].array(entrystart = eStart, entrystop = eStop)

LambdaPi_ProbNNpi = tree["LambdaPi_ProbNNpi"].array(entrystart = eStart, entrystop = eStop)
LambdaPi_TRACK_Type = tree["LambdaPi_TRACK_Type"].array(entrystart = eStart, entrystop = eStop)

PromptPi_ProbNNk = tree["PromptPi_ProbNNk"].array(entrystart = eStart, entrystop = eStop)
PromptPi_IPCHI2_OWNPV = tree["PromptPi_IPCHI2_OWNPV"].array(entrystart = eStart, entrystop = eStop)

#Selecting the tuples and defining them as their own variable name

Omega_MM_Corrected = Omega_MM - Lambda_MM + 1115.683 #Better Omega_MM measurement

Omega_MM_Corrected_v2 = (Omega_MM_Corrected > 1665) & (Omega_MM_Corrected < 1680)
OmegaK_Corrected = (OmegaK_ProbNNk > 0.55)

Lambda_MM_Corrected = (Lambda_MM > 1112) & (Lambda_MM < 1120)

LambdaPr_ProbNNp_Corrected = (LambdaPr_ProbNNp > 0.1)

LambdaPi_ProbNNpi_Corrected = (LambdaPi_ProbNNpi > 0.05)

PromptPi_ProbNNk_Corrected = (PromptPi_ProbNNk  > 0.55)
PromptPi_IPCHI2_OWNPV_Corrected = (PromptPi_IPCHI2_OWNPV > 6)

#Cuts

FirstCuts = Omega_MM_Corrected_v2 & OmegaK_Corrected & Lambda_MM_Corrected & LambdaPr_ProbNNp_Corrected & LambdaPi_ProbNNpi_Corrected & PromptPi_ProbNNk_Corrected & PromptPi_IPCHI2_OWNPV_Corrected
#Defining what cuts should be applied to Xi_c0 as FirstCuts

Corrected_Xic0_Mass = Xic0_MM[FirstCuts] #Applying cuts to Xic0_MM 
nEvents = len(Corrected_Xic0_Mass)
nEvents2 = range(0, nEvents)

Xic0M.Fill(nEvents2, Corrected_Xic0_Mass) #Where the code stops working
