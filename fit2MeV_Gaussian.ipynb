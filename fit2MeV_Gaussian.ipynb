{
 "cells": [
  {
   "cell_type": "code",
   "execution_count": 1,
   "metadata": {},
   "outputs": [],
   "source": [
    "import math \n",
    "\n",
    "def fit1MeV_Gaussian(v, par):\n",
    "    \n",
    "    arg = 0\n",
    "    if (par[2] != 0):\n",
    "        arg = (v[0]-par[1]/par[2])\n",
    "\n",
    "    fitval = par[0]*math.exp(-0.5*arg*arg)\n",
    "    fitval = (fitval * 2.00)/math.sqrt(math.tau*par[2])\n",
    "    \n",
    "    fitval = fitval + par[3] + v[0]*par[4]\n",
    "\n",
    "    return fitval"
   ]
  },
  {
   "cell_type": "code",
   "execution_count": 2,
   "metadata": {},
   "outputs": [],
   "source": []
  },
  {
   "cell_type": "code",
   "execution_count": null,
   "metadata": {},
   "outputs": [],
   "source": []
  }
 ],
 "metadata": {
  "kernelspec": {
   "display_name": "Python 3",
   "language": "python",
   "name": "python3"
  },
  "language_info": {
   "codemirror_mode": {
    "name": "ipython",
    "version": 3
   },
   "file_extension": ".py",
   "mimetype": "text/x-python",
   "name": "python",
   "nbconvert_exporter": "python",
   "pygments_lexer": "ipython3",
   "version": "3.7.3"
  }
 },
 "nbformat": 4,
 "nbformat_minor": 2
}
